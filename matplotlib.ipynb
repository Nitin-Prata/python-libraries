{
 "cells": [
  {
   "cell_type": "markdown",
   "id": "5bc5ba74",
   "metadata": {},
   "source": [
    "### Types of Data"
   ]
  },
  {
   "cell_type": "markdown",
   "id": "200882b9",
   "metadata": {},
   "source": [
    "+ Numerical Data\n",
    "+ Categorical Data"
   ]
  }
 ],
 "metadata": {
  "language_info": {
   "name": "python"
  }
 },
 "nbformat": 4,
 "nbformat_minor": 5
}
