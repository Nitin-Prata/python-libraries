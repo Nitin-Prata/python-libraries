{
 "cells": [
  {
   "cell_type": "markdown",
   "id": "5b3640e5",
   "metadata": {},
   "source": [
    "### np.sort\n",
    "\n",
    "return a sorted of an array.\n"
   ]
  },
  {
   "cell_type": "code",
   "execution_count": 1,
   "id": "ac881f37",
   "metadata": {},
   "outputs": [
    {
     "data": {
      "text/plain": [
       "array([48, 75, 23, 77, 16,  6, 89, 30, 40, 29, 60, 47, 88, 84, 48])"
      ]
     },
     "execution_count": 1,
     "metadata": {},
     "output_type": "execute_result"
    }
   ],
   "source": [
    "# code\n",
    "import numpy as np\n",
    "a = np.random.randint(1,100,15)\n",
    "a"
   ]
  },
  {
   "cell_type": "code",
   "execution_count": 3,
   "id": "e22f4228",
   "metadata": {},
   "outputs": [
    {
     "data": {
      "text/plain": [
       "array([[45, 35, 84, 75],\n",
       "       [68, 50, 32, 10],\n",
       "       [42, 68, 42, 41],\n",
       "       [88, 48, 37, 52],\n",
       "       [70, 69, 82, 70],\n",
       "       [91, 54, 16, 68]])"
      ]
     },
     "execution_count": 3,
     "metadata": {},
     "output_type": "execute_result"
    }
   ],
   "source": [
    "b = np.random.randint(1,100,24).reshape(6,4)\n",
    "b"
   ]
  },
  {
   "cell_type": "code",
   "execution_count": 7,
   "id": "ef105a03",
   "metadata": {},
   "outputs": [
    {
     "data": {
      "text/plain": [
       "array([89, 88, 84, 77, 75, 60, 48, 48, 47, 40, 30, 29, 23, 16,  6])"
      ]
     },
     "execution_count": 7,
     "metadata": {},
     "output_type": "execute_result"
    }
   ],
   "source": [
    "np.sort(a)[::-1]"
   ]
  },
  {
   "cell_type": "code",
   "execution_count": 6,
   "id": "c3e9b361",
   "metadata": {},
   "outputs": [
    {
     "data": {
      "text/plain": [
       "array([[42, 35, 16, 10],\n",
       "       [45, 48, 32, 41],\n",
       "       [68, 50, 37, 52],\n",
       "       [70, 54, 42, 68],\n",
       "       [88, 68, 82, 70],\n",
       "       [91, 69, 84, 75]])"
      ]
     },
     "execution_count": 6,
     "metadata": {},
     "output_type": "execute_result"
    }
   ],
   "source": [
    "np.sort(b,axis=0)"
   ]
  },
  {
   "cell_type": "markdown",
   "id": "f89952f4",
   "metadata": {},
   "source": [
    "### np.append\n",
    "\n",
    "The numpy.append() appends values along the mentioned axis a t the end of the array\n"
   ]
  },
  {
   "cell_type": "code",
   "execution_count": 9,
   "id": "afdd8f06",
   "metadata": {},
   "outputs": [
    {
     "data": {
      "text/plain": [
       "array([ 48,  75,  23,  77,  16,   6,  89,  30,  40,  29,  60,  47,  88,\n",
       "        84,  48, 200])"
      ]
     },
     "execution_count": 9,
     "metadata": {},
     "output_type": "execute_result"
    }
   ],
   "source": [
    "# code\n",
    "np.append(a,200)"
   ]
  },
  {
   "cell_type": "code",
   "execution_count": 10,
   "id": "6b1d9e96",
   "metadata": {},
   "outputs": [
    {
     "data": {
      "text/plain": [
       "array([[45, 35, 84, 75],\n",
       "       [68, 50, 32, 10],\n",
       "       [42, 68, 42, 41],\n",
       "       [88, 48, 37, 52],\n",
       "       [70, 69, 82, 70],\n",
       "       [91, 54, 16, 68]])"
      ]
     },
     "execution_count": 10,
     "metadata": {},
     "output_type": "execute_result"
    }
   ],
   "source": [
    "b"
   ]
  },
  {
   "cell_type": "code",
   "execution_count": 11,
   "id": "c9cb595d",
   "metadata": {},
   "outputs": [
    {
     "data": {
      "text/plain": [
       "array([[45., 35., 84., 75.,  1.],\n",
       "       [68., 50., 32., 10.,  1.],\n",
       "       [42., 68., 42., 41.,  1.],\n",
       "       [88., 48., 37., 52.,  1.],\n",
       "       [70., 69., 82., 70.,  1.],\n",
       "       [91., 54., 16., 68.,  1.]])"
      ]
     },
     "execution_count": 11,
     "metadata": {},
     "output_type": "execute_result"
    }
   ],
   "source": [
    "np.append(b,np.ones((b.shape[0],1)),axis = 1)"
   ]
  },
  {
   "cell_type": "markdown",
   "id": "f053e171",
   "metadata": {},
   "source": [
    "# np.concatenate\n",
    "\n",
    "numpy.concatenate() function concatenate a sequence of arrays along an existing axis\n"
   ]
  },
  {
   "cell_type": "code",
   "execution_count": 13,
   "id": "e6da86ca",
   "metadata": {},
   "outputs": [
    {
     "name": "stdout",
     "output_type": "stream",
     "text": [
      "[[0 1 2]\n",
      " [3 4 5]]\n",
      "[[ 6  7  8]\n",
      " [ 9 10 11]]\n"
     ]
    }
   ],
   "source": [
    "# code\n",
    "c = np.arange(6).reshape(2,3)\n",
    "d = np.arange(6,12).reshape(2,3)\n",
    "\n",
    "print(c)\n",
    "print(d)"
   ]
  },
  {
   "cell_type": "code",
   "execution_count": 14,
   "id": "7be2208a",
   "metadata": {},
   "outputs": [
    {
     "data": {
      "text/plain": [
       "array([[ 0,  1,  2,  6,  7,  8],\n",
       "       [ 3,  4,  5,  9, 10, 11]])"
      ]
     },
     "execution_count": 14,
     "metadata": {},
     "output_type": "execute_result"
    }
   ],
   "source": [
    "np.concatenate((c,d),axis = 1)"
   ]
  },
  {
   "cell_type": "code",
   "execution_count": 15,
   "id": "1281c9ce",
   "metadata": {},
   "outputs": [
    {
     "data": {
      "text/plain": [
       "array([[ 0,  1,  2],\n",
       "       [ 3,  4,  5],\n",
       "       [ 6,  7,  8],\n",
       "       [ 9, 10, 11]])"
      ]
     },
     "execution_count": 15,
     "metadata": {},
     "output_type": "execute_result"
    }
   ],
   "source": [
    "np.concatenate((c,d),axis = 0)"
   ]
  },
  {
   "cell_type": "markdown",
   "id": "0cb952b9",
   "metadata": {},
   "source": [
    "### np.unique\n",
    "\n",
    "With the help of np.unique() method, we can get the unique values from an array given as parameter in np.unique() method.\n"
   ]
  },
  {
   "cell_type": "code",
   "execution_count": 16,
   "id": "6fb21fc5",
   "metadata": {},
   "outputs": [
    {
     "data": {
      "text/plain": [
       "array([1, 2, 3, 4, 5])"
      ]
     },
     "execution_count": 16,
     "metadata": {},
     "output_type": "execute_result"
    }
   ],
   "source": [
    "# code\n",
    "e = np.array([1,1,2,2,3,3,3,4,4,5,5])\n",
    "\n",
    "np.unique(e)"
   ]
  },
  {
   "cell_type": "markdown",
   "id": "03cfe85d",
   "metadata": {},
   "source": [
    "### np.expand_dims\n",
    "\n",
    "with the help of Numpy.expand_dims() method, we can get the expands dimesions of an array\n"
   ]
  },
  {
   "cell_type": "code",
   "execution_count": 17,
   "id": "6dc9a0c8",
   "metadata": {},
   "outputs": [
    {
     "data": {
      "text/plain": [
       "array([48, 75, 23, 77, 16,  6, 89, 30, 40, 29, 60, 47, 88, 84, 48])"
      ]
     },
     "execution_count": 17,
     "metadata": {},
     "output_type": "execute_result"
    }
   ],
   "source": [
    "# code\n",
    "a"
   ]
  },
  {
   "cell_type": "code",
   "execution_count": 21,
   "id": "e4a9ac09",
   "metadata": {},
   "outputs": [
    {
     "data": {
      "text/plain": [
       "(1, 15)"
      ]
     },
     "execution_count": 21,
     "metadata": {},
     "output_type": "execute_result"
    }
   ],
   "source": [
    "np.expand_dims(a,axis=0).shape"
   ]
  },
  {
   "cell_type": "code",
   "execution_count": 26,
   "id": "2c25a4df",
   "metadata": {},
   "outputs": [
    {
     "data": {
      "text/plain": [
       "array([[48],\n",
       "       [75],\n",
       "       [23],\n",
       "       [77],\n",
       "       [16],\n",
       "       [ 6],\n",
       "       [89],\n",
       "       [30],\n",
       "       [40],\n",
       "       [29],\n",
       "       [60],\n",
       "       [47],\n",
       "       [88],\n",
       "       [84],\n",
       "       [48]])"
      ]
     },
     "execution_count": 26,
     "metadata": {},
     "output_type": "execute_result"
    }
   ],
   "source": [
    "np.expand_dims(a,axis=1)\n"
   ]
  },
  {
   "cell_type": "markdown",
   "id": "bb7c88cc",
   "metadata": {},
   "source": [
    "### np.where\n",
    "\n",
    "The numpy.where() function returns the indicies of the elements in an input array where the given condition is satisfied\n"
   ]
  },
  {
   "cell_type": "code",
   "execution_count": 27,
   "id": "70a4138f",
   "metadata": {},
   "outputs": [
    {
     "data": {
      "text/plain": [
       "array([48, 75, 23, 77, 16,  6, 89, 30, 40, 29, 60, 47, 88, 84, 48])"
      ]
     },
     "execution_count": 27,
     "metadata": {},
     "output_type": "execute_result"
    }
   ],
   "source": [
    "a"
   ]
  },
  {
   "cell_type": "code",
   "execution_count": 29,
   "id": "89c24ead",
   "metadata": {},
   "outputs": [
    {
     "data": {
      "text/plain": [
       "(array([ 1,  3,  6, 10, 12, 13], dtype=int64),)"
      ]
     },
     "execution_count": 29,
     "metadata": {},
     "output_type": "execute_result"
    }
   ],
   "source": [
    "# find all indices with value grater than 50\n",
    "np.where(a>50)"
   ]
  },
  {
   "cell_type": "code",
   "execution_count": 30,
   "id": "f83fe044",
   "metadata": {},
   "outputs": [
    {
     "data": {
      "text/plain": [
       "array([48,  0, 23,  0, 16,  6,  0, 30, 40, 29,  0, 47,  0,  0, 48])"
      ]
     },
     "execution_count": 30,
     "metadata": {},
     "output_type": "execute_result"
    }
   ],
   "source": [
    "# replace all values > 50 with 0\n",
    "np.where(a>50,0,a)"
   ]
  },
  {
   "cell_type": "markdown",
   "id": "9dbb7fae",
   "metadata": {},
   "source": [
    "### np.argmax\n",
    "\n",
    "The numpy.argmax() function returns indices of the max element of the array in a particular axis\n"
   ]
  },
  {
   "cell_type": "code",
   "execution_count": 31,
   "id": "e0de6aa7",
   "metadata": {},
   "outputs": [
    {
     "data": {
      "text/plain": [
       "array([48, 75, 23, 77, 16,  6, 89, 30, 40, 29, 60, 47, 88, 84, 48])"
      ]
     },
     "execution_count": 31,
     "metadata": {},
     "output_type": "execute_result"
    }
   ],
   "source": [
    "# code\n",
    "a"
   ]
  },
  {
   "cell_type": "code",
   "execution_count": 32,
   "id": "1cf98440",
   "metadata": {},
   "outputs": [
    {
     "data": {
      "text/plain": [
       "6"
      ]
     },
     "execution_count": 32,
     "metadata": {},
     "output_type": "execute_result"
    }
   ],
   "source": [
    "np.argmax(a)"
   ]
  },
  {
   "cell_type": "code",
   "execution_count": 33,
   "id": "ef9385ba",
   "metadata": {},
   "outputs": [
    {
     "data": {
      "text/plain": [
       "array([[45, 35, 84, 75],\n",
       "       [68, 50, 32, 10],\n",
       "       [42, 68, 42, 41],\n",
       "       [88, 48, 37, 52],\n",
       "       [70, 69, 82, 70],\n",
       "       [91, 54, 16, 68]])"
      ]
     },
     "execution_count": 33,
     "metadata": {},
     "output_type": "execute_result"
    }
   ],
   "source": [
    "b"
   ]
  },
  {
   "cell_type": "code",
   "execution_count": 34,
   "id": "121aefc0",
   "metadata": {},
   "outputs": [
    {
     "data": {
      "text/plain": [
       "array([5, 4, 0, 0], dtype=int64)"
      ]
     },
     "execution_count": 34,
     "metadata": {},
     "output_type": "execute_result"
    }
   ],
   "source": [
    "np.argmax(b,axis=0)"
   ]
  },
  {
   "cell_type": "code",
   "execution_count": 35,
   "id": "5920709e",
   "metadata": {},
   "outputs": [
    {
     "data": {
      "text/plain": [
       "5"
      ]
     },
     "execution_count": 35,
     "metadata": {},
     "output_type": "execute_result"
    }
   ],
   "source": [
    "# np.argmin\n",
    "np.argmin(a)"
   ]
  },
  {
   "cell_type": "markdown",
   "id": "3d892207",
   "metadata": {},
   "source": [
    "### np.cumsum\n",
    "\n",
    "numpy.cumsum() function is used where we want to compute the cumulative sum of array elements over a given axis\n"
   ]
  },
  {
   "cell_type": "code",
   "execution_count": 36,
   "id": "a0e1f338",
   "metadata": {},
   "outputs": [
    {
     "data": {
      "text/plain": [
       "array([48, 75, 23, 77, 16,  6, 89, 30, 40, 29, 60, 47, 88, 84, 48])"
      ]
     },
     "execution_count": 36,
     "metadata": {},
     "output_type": "execute_result"
    }
   ],
   "source": [
    "# code\n",
    "a"
   ]
  },
  {
   "cell_type": "code",
   "execution_count": 37,
   "id": "784c723e",
   "metadata": {},
   "outputs": [
    {
     "data": {
      "text/plain": [
       "array([ 48, 123, 146, 223, 239, 245, 334, 364, 404, 433, 493, 540, 628,\n",
       "       712, 760])"
      ]
     },
     "execution_count": 37,
     "metadata": {},
     "output_type": "execute_result"
    }
   ],
   "source": [
    "np.cumsum(a)"
   ]
  },
  {
   "cell_type": "code",
   "execution_count": 38,
   "id": "451aae9c",
   "metadata": {},
   "outputs": [
    {
     "data": {
      "text/plain": [
       "array([[45, 35, 84, 75],\n",
       "       [68, 50, 32, 10],\n",
       "       [42, 68, 42, 41],\n",
       "       [88, 48, 37, 52],\n",
       "       [70, 69, 82, 70],\n",
       "       [91, 54, 16, 68]])"
      ]
     },
     "execution_count": 38,
     "metadata": {},
     "output_type": "execute_result"
    }
   ],
   "source": [
    "b"
   ]
  },
  {
   "cell_type": "code",
   "execution_count": 39,
   "id": "40235afd",
   "metadata": {},
   "outputs": [
    {
     "data": {
      "text/plain": [
       "array([[ 45,  35,  84,  75],\n",
       "       [113,  85, 116,  85],\n",
       "       [155, 153, 158, 126],\n",
       "       [243, 201, 195, 178],\n",
       "       [313, 270, 277, 248],\n",
       "       [404, 324, 293, 316]])"
      ]
     },
     "execution_count": 39,
     "metadata": {},
     "output_type": "execute_result"
    }
   ],
   "source": [
    "np.cumsum(b,axis=0)"
   ]
  },
  {
   "cell_type": "code",
   "execution_count": 40,
   "id": "ae51db09",
   "metadata": {},
   "outputs": [
    {
     "data": {
      "text/plain": [
       "array([         48,        3600,       82800,     6375600,   102009600,\n",
       "         612057600, -1361448448,  2106219520, -1650565120,  -621748224,\n",
       "        1349812224,  -983334912,  -634126336, -1727004672, -1291845632])"
      ]
     },
     "execution_count": 40,
     "metadata": {},
     "output_type": "execute_result"
    }
   ],
   "source": [
    "# np.cumprod\n",
    "np.cumprod(a)"
   ]
  },
  {
   "cell_type": "markdown",
   "id": "4ddc44c6",
   "metadata": {},
   "source": [
    "### np.percentile\n",
    "\n",
    "numpy.percentile() function used to compute the nth percentile of the given data(array)\n"
   ]
  },
  {
   "cell_type": "code",
   "execution_count": 41,
   "id": "61feb41a",
   "metadata": {},
   "outputs": [
    {
     "data": {
      "text/plain": [
       "array([48, 75, 23, 77, 16,  6, 89, 30, 40, 29, 60, 47, 88, 84, 48])"
      ]
     },
     "execution_count": 41,
     "metadata": {},
     "output_type": "execute_result"
    }
   ],
   "source": [
    "a"
   ]
  },
  {
   "cell_type": "code",
   "execution_count": 42,
   "id": "dcace490",
   "metadata": {},
   "outputs": [
    {
     "data": {
      "text/plain": [
       "89.0"
      ]
     },
     "execution_count": 42,
     "metadata": {},
     "output_type": "execute_result"
    }
   ],
   "source": [
    "np.percentile(a,100)"
   ]
  },
  {
   "cell_type": "markdown",
   "id": "684554f4",
   "metadata": {},
   "source": [
    "### np.histogram\n",
    "\n",
    "Numpy has a built-in numpy.histogram() function which represents the frequency of data distribution in the graphical form.\n"
   ]
  },
  {
   "cell_type": "code",
   "execution_count": 43,
   "id": "0ff2acae",
   "metadata": {},
   "outputs": [
    {
     "data": {
      "text/plain": [
       "array([48, 75, 23, 77, 16,  6, 89, 30, 40, 29, 60, 47, 88, 84, 48])"
      ]
     },
     "execution_count": 43,
     "metadata": {},
     "output_type": "execute_result"
    }
   ],
   "source": [
    "# code\n",
    "a"
   ]
  },
  {
   "cell_type": "code",
   "execution_count": 44,
   "id": "1b2200c7",
   "metadata": {},
   "outputs": [
    {
     "data": {
      "text/plain": [
       "(array([1, 1, 2, 1, 4, 0, 1, 2, 3, 0], dtype=int64),\n",
       " array([  0,  10,  20,  30,  40,  50,  60,  70,  80,  90, 100]))"
      ]
     },
     "execution_count": 44,
     "metadata": {},
     "output_type": "execute_result"
    }
   ],
   "source": [
    "np.histogram(a,bins=[0,10,20,30,40,50,60,70,80,90,100])"
   ]
  },
  {
   "cell_type": "markdown",
   "id": "2b0aea79",
   "metadata": {},
   "source": [
    "# np.corrcoef\n",
    "\n",
    "Return Pearson product-moment correlation coefficients.\n"
   ]
  },
  {
   "cell_type": "code",
   "execution_count": 46,
   "id": "bcff540e",
   "metadata": {},
   "outputs": [
    {
     "data": {
      "text/plain": [
       "array([[1.        , 0.25344572],\n",
       "       [0.25344572, 1.        ]])"
      ]
     },
     "execution_count": 46,
     "metadata": {},
     "output_type": "execute_result"
    }
   ],
   "source": [
    "salary = np.array([20000,40000,25000,35000,60000])\n",
    "experience = np.array([1,3,2,4,2])\n",
    "\n",
    "np.corrcoef(salary , experience)"
   ]
  },
  {
   "cell_type": "markdown",
   "id": "cb772aff",
   "metadata": {},
   "source": [
    "### np.isin\n",
    "\n",
    "with the help of numpy.isin() method, we can see that one array having vlues are checked in a different numpy array having different elements with different sizes\n"
   ]
  },
  {
   "cell_type": "code",
   "execution_count": 47,
   "id": "d13db0aa",
   "metadata": {},
   "outputs": [
    {
     "data": {
      "text/plain": [
       "array([48, 75, 23, 77, 16,  6, 89, 30, 40, 29, 60, 47, 88, 84, 48])"
      ]
     },
     "execution_count": 47,
     "metadata": {},
     "output_type": "execute_result"
    }
   ],
   "source": [
    "# code\n",
    "a"
   ]
  },
  {
   "cell_type": "code",
   "execution_count": 50,
   "id": "aa15cd22",
   "metadata": {},
   "outputs": [
    {
     "data": {
      "text/plain": [
       "array([30, 40, 60])"
      ]
     },
     "execution_count": 50,
     "metadata": {},
     "output_type": "execute_result"
    }
   ],
   "source": [
    "items = [10,20,30,40,50,60,70,80,90,100]\n",
    "\n",
    "a[np.isin(a,items)]"
   ]
  },
  {
   "cell_type": "markdown",
   "id": "fa9369eb",
   "metadata": {},
   "source": [
    "### np.flip\n",
    "\n",
    "The numpy.flip() function reverses the order of array elements along the specified axis, preserving the shape of the array\n"
   ]
  },
  {
   "cell_type": "code",
   "execution_count": 51,
   "id": "7978b28c",
   "metadata": {},
   "outputs": [
    {
     "data": {
      "text/plain": [
       "array([48, 75, 23, 77, 16,  6, 89, 30, 40, 29, 60, 47, 88, 84, 48])"
      ]
     },
     "execution_count": 51,
     "metadata": {},
     "output_type": "execute_result"
    }
   ],
   "source": [
    "a"
   ]
  },
  {
   "cell_type": "code",
   "execution_count": 52,
   "id": "237a6b7d",
   "metadata": {},
   "outputs": [
    {
     "data": {
      "text/plain": [
       "array([48, 84, 88, 47, 60, 29, 40, 30, 89,  6, 16, 77, 23, 75, 48])"
      ]
     },
     "execution_count": 52,
     "metadata": {},
     "output_type": "execute_result"
    }
   ],
   "source": [
    "np.flip(a)"
   ]
  },
  {
   "cell_type": "code",
   "execution_count": 53,
   "id": "377347df",
   "metadata": {},
   "outputs": [
    {
     "data": {
      "text/plain": [
       "array([[68, 16, 54, 91],\n",
       "       [70, 82, 69, 70],\n",
       "       [52, 37, 48, 88],\n",
       "       [41, 42, 68, 42],\n",
       "       [10, 32, 50, 68],\n",
       "       [75, 84, 35, 45]])"
      ]
     },
     "execution_count": 53,
     "metadata": {},
     "output_type": "execute_result"
    }
   ],
   "source": [
    "np.flip(b)"
   ]
  },
  {
   "cell_type": "markdown",
   "id": "2519edb2",
   "metadata": {},
   "source": [
    "### np.put\n",
    "\n",
    "The numpy.put function replaces specific elements of an array with given values of p array. Array indexed works on flattened array.\n"
   ]
  },
  {
   "cell_type": "code",
   "execution_count": 55,
   "id": "32db9242",
   "metadata": {},
   "outputs": [
    {
     "data": {
      "text/plain": [
       "array([48, 75, 23, 77, 16,  6, 89, 30, 40, 29, 60, 47, 88, 84, 48])"
      ]
     },
     "execution_count": 55,
     "metadata": {},
     "output_type": "execute_result"
    }
   ],
   "source": [
    "# code\n",
    "a"
   ]
  },
  {
   "cell_type": "code",
   "execution_count": 57,
   "id": "14e4b66f",
   "metadata": {},
   "outputs": [
    {
     "data": {
      "text/plain": [
       "array([110, 530,  23,  77,  16,   6,  89,  30,  40,  29,  60,  47,  88,\n",
       "        84,  48])"
      ]
     },
     "execution_count": 57,
     "metadata": {},
     "output_type": "execute_result"
    }
   ],
   "source": [
    "np.put(a,[0,1],[110,530])\n",
    "a"
   ]
  },
  {
   "cell_type": "markdown",
   "id": "70eb6ca7",
   "metadata": {},
   "source": [
    "### np.delete\n",
    "\n",
    "The numpy.delete() function returns a new array with the deletion of sub-arrays along with the mentioned axis\n"
   ]
  },
  {
   "cell_type": "code",
   "execution_count": 58,
   "id": "3d41be76",
   "metadata": {},
   "outputs": [
    {
     "data": {
      "text/plain": [
       "array([110, 530,  23,  77,  16,   6,  89,  30,  40,  29,  60,  47,  88,\n",
       "        84,  48])"
      ]
     },
     "execution_count": 58,
     "metadata": {},
     "output_type": "execute_result"
    }
   ],
   "source": [
    "a"
   ]
  },
  {
   "cell_type": "code",
   "execution_count": 59,
   "id": "6f9b4255",
   "metadata": {},
   "outputs": [
    {
     "data": {
      "text/plain": [
       "array([530,  23,  77,  16,   6,  89,  30,  40,  29,  60,  47,  88,  84,\n",
       "        48])"
      ]
     },
     "execution_count": 59,
     "metadata": {},
     "output_type": "execute_result"
    }
   ],
   "source": [
    "np.delete(a,0)"
   ]
  },
  {
   "cell_type": "markdown",
   "id": "c02478ee",
   "metadata": {},
   "source": [
    "### set functions\n",
    "+ np.union1d\n",
    "+ np.intersect1d\n",
    "+ np.setdiff1d\n",
    "+ np.setxor1d\n",
    "+ np.in1d\n"
   ]
  },
  {
   "cell_type": "code",
   "execution_count": 61,
   "id": "47567eff",
   "metadata": {},
   "outputs": [
    {
     "data": {
      "text/plain": [
       "array([ 1,  3,  4,  5,  6, 22, 56])"
      ]
     },
     "execution_count": 61,
     "metadata": {},
     "output_type": "execute_result"
    }
   ],
   "source": [
    "m = np.array([1,22,3,56])\n",
    "n = np.array([3,4,5,6])\n",
    "\n",
    "np.union1d(m,n)"
   ]
  },
  {
   "cell_type": "code",
   "execution_count": 62,
   "id": "267c7c48",
   "metadata": {},
   "outputs": [
    {
     "data": {
      "text/plain": [
       "array([3])"
      ]
     },
     "execution_count": 62,
     "metadata": {},
     "output_type": "execute_result"
    }
   ],
   "source": [
    "np.intersect1d(m,n)"
   ]
  },
  {
   "cell_type": "code",
   "execution_count": 63,
   "id": "21a169bb",
   "metadata": {},
   "outputs": [
    {
     "data": {
      "text/plain": [
       "array([ 1, 22, 56])"
      ]
     },
     "execution_count": 63,
     "metadata": {},
     "output_type": "execute_result"
    }
   ],
   "source": [
    "np.setdiff1d(m,n)"
   ]
  },
  {
   "cell_type": "code",
   "execution_count": 64,
   "id": "73d9add6",
   "metadata": {},
   "outputs": [
    {
     "data": {
      "text/plain": [
       "array([ 1,  4,  5,  6, 22, 56])"
      ]
     },
     "execution_count": 64,
     "metadata": {},
     "output_type": "execute_result"
    }
   ],
   "source": [
    "np.setxor1d(m,n)"
   ]
  },
  {
   "cell_type": "code",
   "execution_count": 65,
   "id": "dd62da89",
   "metadata": {},
   "outputs": [
    {
     "data": {
      "text/plain": [
       "array([ True, False, False, False])"
      ]
     },
     "execution_count": 65,
     "metadata": {},
     "output_type": "execute_result"
    }
   ],
   "source": [
    "np.in1d(m,1)"
   ]
  },
  {
   "cell_type": "markdown",
   "id": "63b51461",
   "metadata": {},
   "source": [
    "### np.clip\n",
    "numpy clip() function is used to clip(limit) the value in an array"
   ]
  },
  {
   "cell_type": "code",
   "execution_count": 66,
   "id": "f49815db",
   "metadata": {},
   "outputs": [
    {
     "data": {
      "text/plain": [
       "array([110, 530,  23,  77,  16,   6,  89,  30,  40,  29,  60,  47,  88,\n",
       "        84,  48])"
      ]
     },
     "execution_count": 66,
     "metadata": {},
     "output_type": "execute_result"
    }
   ],
   "source": [
    "# code\n",
    "a"
   ]
  },
  {
   "cell_type": "code",
   "execution_count": 67,
   "id": "a67e86cf",
   "metadata": {},
   "outputs": [
    {
     "data": {
      "text/plain": [
       "array([75, 75, 25, 75, 25, 25, 75, 30, 40, 29, 60, 47, 75, 75, 48])"
      ]
     },
     "execution_count": 67,
     "metadata": {},
     "output_type": "execute_result"
    }
   ],
   "source": [
    "np.clip(a,a_min=25 , a_max=75)"
   ]
  }
 ],
 "metadata": {
  "kernelspec": {
   "display_name": "Python 3",
   "language": "python",
   "name": "python3"
  },
  "language_info": {
   "codemirror_mode": {
    "name": "ipython",
    "version": 3
   },
   "file_extension": ".py",
   "mimetype": "text/x-python",
   "name": "python",
   "nbconvert_exporter": "python",
   "pygments_lexer": "ipython3",
   "version": "3.9.9"
  }
 },
 "nbformat": 4,
 "nbformat_minor": 5
}
