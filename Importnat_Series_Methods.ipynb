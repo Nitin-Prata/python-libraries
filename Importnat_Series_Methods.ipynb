{
 "cells": [
  {
   "cell_type": "markdown",
   "id": "bdb835eb",
   "metadata": {},
   "source": [
    "### Some Important Series Methods"
   ]
  },
  {
   "cell_type": "code",
   "execution_count": 1,
   "id": "ca8e7b88",
   "metadata": {},
   "outputs": [],
   "source": [
    "# astype\n",
    "# between\n",
    "# clip\n",
    "# drop_duplicates\n",
    "# isnull\n",
    "# dropna\n",
    "# fillna\n",
    "# isin\n",
    "# apply\n",
    "# copy"
   ]
  },
  {
   "cell_type": "code",
   "execution_count": 2,
   "id": "9048ee78",
   "metadata": {},
   "outputs": [],
   "source": [
    "import numpy as np\n",
    "import pandas as pd"
   ]
  },
  {
   "cell_type": "code",
   "execution_count": 6,
   "id": "dcbd393a",
   "metadata": {},
   "outputs": [
    {
     "data": {
      "text/plain": [
       "0       48\n",
       "1       57\n",
       "2       40\n",
       "3       43\n",
       "4       44\n",
       "      ... \n",
       "360    231\n",
       "361    226\n",
       "362    155\n",
       "363    144\n",
       "364    172\n",
       "Name: Subscribers gained, Length: 365, dtype: int64"
      ]
     },
     "execution_count": 6,
     "metadata": {},
     "output_type": "execute_result"
    }
   ],
   "source": [
    "subs = pd.read_csv('subs.csv').squeeze()\n",
    "type(subs)\n",
    "subs"
   ]
  },
  {
   "cell_type": "code",
   "execution_count": 9,
   "id": "7c26c523",
   "metadata": {},
   "outputs": [
    {
     "data": {
      "text/plain": [
       "match_no\n",
       "1       1\n",
       "2      23\n",
       "3      13\n",
       "4      12\n",
       "5       1\n",
       "       ..\n",
       "211     0\n",
       "212    20\n",
       "213    73\n",
       "214    25\n",
       "215     7\n",
       "Name: runs, Length: 215, dtype: int64"
      ]
     },
     "execution_count": 9,
     "metadata": {},
     "output_type": "execute_result"
    }
   ],
   "source": [
    "vk = pd.read_csv('kohli_ipl.csv',index_col = 'match_no').squeeze()\n",
    "vk"
   ]
  },
  {
   "cell_type": "code",
   "execution_count": 11,
   "id": "92de1932",
   "metadata": {},
   "outputs": [
    {
     "data": {
      "text/plain": [
       "movie\n",
       "Uri: The Surgical Strike                   Vicky Kaushal\n",
       "Battalion 609                                Vicky Ahuja\n",
       "The Accidental Prime Minister (film)         Anupam Kher\n",
       "Why Cheat India                            Emraan Hashmi\n",
       "Evening Shadows                         Mona Ambegaonkar\n",
       "                                              ...       \n",
       "Hum Tumhare Hain Sanam                    Shah Rukh Khan\n",
       "Aankhen (2002 film)                     Amitabh Bachchan\n",
       "Saathiya (film)                             Vivek Oberoi\n",
       "Company (film)                                Ajay Devgn\n",
       "Awara Paagal Deewana                        Akshay Kumar\n",
       "Name: lead, Length: 1500, dtype: object"
      ]
     },
     "execution_count": 11,
     "metadata": {},
     "output_type": "execute_result"
    }
   ],
   "source": [
    "movies = pd.read_csv('bollywood.csv',index_col='movie').squeeze()\n",
    "movies"
   ]
  },
  {
   "cell_type": "code",
   "execution_count": 14,
   "id": "2f1d568c",
   "metadata": {},
   "outputs": [
    {
     "data": {
      "text/plain": [
       "3456"
      ]
     },
     "execution_count": 14,
     "metadata": {},
     "output_type": "execute_result"
    }
   ],
   "source": [
    "# astype -> change the data type of the data \n",
    "import sys\n",
    "sys.getsizeof(vk)\n"
   ]
  },
  {
   "cell_type": "code",
   "execution_count": 16,
   "id": "ed169e78",
   "metadata": {},
   "outputs": [
    {
     "data": {
      "text/plain": [
       "2166"
      ]
     },
     "execution_count": 16,
     "metadata": {},
     "output_type": "execute_result"
    }
   ],
   "source": [
    "sys.getsizeof(vk.astype('int16'))"
   ]
  },
  {
   "cell_type": "code",
   "execution_count": 20,
   "id": "89d3af2d",
   "metadata": {},
   "outputs": [
    {
     "data": {
      "text/plain": [
       "43"
      ]
     },
     "execution_count": 20,
     "metadata": {},
     "output_type": "execute_result"
    }
   ],
   "source": [
    "# between -> tells ki ek range mai items exist karte hai ya ni and it returns the boolean series\n",
    "\n",
    "vk[vk.between(51,99)].size"
   ]
  },
  {
   "cell_type": "code",
   "execution_count": 22,
   "id": "51e42cf4",
   "metadata": {},
   "outputs": [
    {
     "data": {
      "text/plain": [
       "0      100\n",
       "1      100\n",
       "2      100\n",
       "3      100\n",
       "4      100\n",
       "      ... \n",
       "360    200\n",
       "361    200\n",
       "362    155\n",
       "363    144\n",
       "364    172\n",
       "Name: Subscribers gained, Length: 365, dtype: int64"
      ]
     },
     "execution_count": 22,
     "metadata": {},
     "output_type": "execute_result"
    }
   ],
   "source": [
    "# clip -> clip the vlaues in given range\n",
    "subs.clip(100,200)"
   ]
  },
  {
   "cell_type": "code",
   "execution_count": 27,
   "id": "2838ec4e",
   "metadata": {},
   "outputs": [
    {
     "data": {
      "text/plain": [
       "0    1\n",
       "1    1\n",
       "2    1\n",
       "3    2\n",
       "4    3\n",
       "5    3\n",
       "6    4\n",
       "7    4\n",
       "8    5\n",
       "9    5\n",
       "dtype: int64"
      ]
     },
     "execution_count": 27,
     "metadata": {},
     "output_type": "execute_result"
    }
   ],
   "source": [
    "# drop_duplicates -> removes the duplicates\n",
    "temp = pd.Series([1,1,1,2,3,3,4,4,5,5])\n",
    "temp"
   ]
  },
  {
   "cell_type": "code",
   "execution_count": 29,
   "id": "720fd339",
   "metadata": {},
   "outputs": [
    {
     "data": {
      "text/plain": [
       "2    1\n",
       "3    2\n",
       "5    3\n",
       "7    4\n",
       "9    5\n",
       "dtype: int64"
      ]
     },
     "execution_count": 29,
     "metadata": {},
     "output_type": "execute_result"
    }
   ],
   "source": [
    "temp.drop_duplicates(keep='last')"
   ]
  },
  {
   "cell_type": "code",
   "execution_count": 31,
   "id": "e1595b20",
   "metadata": {},
   "outputs": [
    {
     "data": {
      "text/plain": [
       "movie\n",
       "Uri: The Surgical Strike                   Vicky Kaushal\n",
       "Battalion 609                                Vicky Ahuja\n",
       "The Accidental Prime Minister (film)         Anupam Kher\n",
       "Why Cheat India                            Emraan Hashmi\n",
       "Evening Shadows                         Mona Ambegaonkar\n",
       "                                              ...       \n",
       "Sssshhh...                              Tanishaa Mukerji\n",
       "Rules: Pyaar Ka Superhit Formula                  Tanuja\n",
       "Right Here Right Now (film)                        Ankit\n",
       "Talaash: The Hunt Begins...                Rakhee Gulzar\n",
       "The Pink Mirror                          Edwin Fernandes\n",
       "Name: lead, Length: 566, dtype: object"
      ]
     },
     "execution_count": 31,
     "metadata": {},
     "output_type": "execute_result"
    }
   ],
   "source": [
    "movies.drop_duplicates()"
   ]
  },
  {
   "cell_type": "code",
   "execution_count": 33,
   "id": "2fbc0036",
   "metadata": {},
   "outputs": [
    {
     "data": {
      "text/plain": [
       "5"
      ]
     },
     "execution_count": 33,
     "metadata": {},
     "output_type": "execute_result"
    }
   ],
   "source": [
    "temp.duplicated().sum()"
   ]
  },
  {
   "cell_type": "code",
   "execution_count": 35,
   "id": "af9f47da",
   "metadata": {},
   "outputs": [
    {
     "data": {
      "text/plain": [
       "137"
      ]
     },
     "execution_count": 35,
     "metadata": {},
     "output_type": "execute_result"
    }
   ],
   "source": [
    "vk.duplicated().sum()"
   ]
  },
  {
   "cell_type": "code",
   "execution_count": 37,
   "id": "f2696037",
   "metadata": {},
   "outputs": [
    {
     "data": {
      "text/plain": [
       "0     1.0\n",
       "1     2.0\n",
       "2     3.0\n",
       "3     NaN\n",
       "4     5.0\n",
       "5     6.0\n",
       "6     NaN\n",
       "7     8.0\n",
       "8     NaN\n",
       "9    10.0\n",
       "dtype: float64"
      ]
     },
     "execution_count": 37,
     "metadata": {},
     "output_type": "execute_result"
    }
   ],
   "source": [
    "temp = pd.Series([1,2,3,np.nan,5,6,np.nan,8,np.nan,10])\n",
    "temp"
   ]
  },
  {
   "cell_type": "code",
   "execution_count": 38,
   "id": "222ce67e",
   "metadata": {},
   "outputs": [
    {
     "data": {
      "text/plain": [
       "10"
      ]
     },
     "execution_count": 38,
     "metadata": {},
     "output_type": "execute_result"
    }
   ],
   "source": [
    "temp.size"
   ]
  },
  {
   "cell_type": "code",
   "execution_count": 39,
   "id": "701cf066",
   "metadata": {},
   "outputs": [
    {
     "data": {
      "text/plain": [
       "7"
      ]
     },
     "execution_count": 39,
     "metadata": {},
     "output_type": "execute_result"
    }
   ],
   "source": [
    "temp.count()"
   ]
  },
  {
   "cell_type": "code",
   "execution_count": 41,
   "id": "5b371b35",
   "metadata": {},
   "outputs": [
    {
     "data": {
      "text/plain": [
       "0"
      ]
     },
     "execution_count": 41,
     "metadata": {},
     "output_type": "execute_result"
    }
   ],
   "source": [
    "# is null -> tells how many null values present in a data\n",
    "vk.isnull().sum()"
   ]
  },
  {
   "cell_type": "code",
   "execution_count": 42,
   "id": "9a5d4cb1",
   "metadata": {},
   "outputs": [
    {
     "data": {
      "text/plain": [
       "3"
      ]
     },
     "execution_count": 42,
     "metadata": {},
     "output_type": "execute_result"
    }
   ],
   "source": [
    "temp.isnull().sum()"
   ]
  },
  {
   "cell_type": "code",
   "execution_count": 43,
   "id": "11fc0686",
   "metadata": {},
   "outputs": [
    {
     "data": {
      "text/plain": [
       "0     1.0\n",
       "1     2.0\n",
       "2     3.0\n",
       "4     5.0\n",
       "5     6.0\n",
       "7     8.0\n",
       "9    10.0\n",
       "dtype: float64"
      ]
     },
     "execution_count": 43,
     "metadata": {},
     "output_type": "execute_result"
    }
   ],
   "source": [
    "# dropna -> remove all missing values\n",
    "temp.dropna()"
   ]
  },
  {
   "cell_type": "code",
   "execution_count": 45,
   "id": "af2cc821",
   "metadata": {},
   "outputs": [
    {
     "data": {
      "text/plain": [
       "0     1.0\n",
       "1     2.0\n",
       "2     3.0\n",
       "3     5.0\n",
       "4     5.0\n",
       "5     6.0\n",
       "6     5.0\n",
       "7     8.0\n",
       "8     5.0\n",
       "9    10.0\n",
       "dtype: float64"
      ]
     },
     "execution_count": 45,
     "metadata": {},
     "output_type": "execute_result"
    }
   ],
   "source": [
    "# fillna -> fill missing values\n",
    "temp.fillna(temp.mean())"
   ]
  },
  {
   "cell_type": "code",
   "execution_count": 49,
   "id": "8e7a3cd8",
   "metadata": {},
   "outputs": [
    {
     "data": {
      "text/plain": [
       "match_no\n",
       "82    99\n",
       "86    49\n",
       "Name: runs, dtype: int64"
      ]
     },
     "execution_count": 49,
     "metadata": {},
     "output_type": "execute_result"
    }
   ],
   "source": [
    "# isin -> check multiple thing at a time in a series\n",
    "vk[(vk == 49) | (vk == 99)]"
   ]
  },
  {
   "cell_type": "code",
   "execution_count": 53,
   "id": "e123c90e",
   "metadata": {},
   "outputs": [
    {
     "data": {
      "text/plain": [
       "match_no\n",
       "82      99\n",
       "108     48\n",
       "120    100\n",
       "153     48\n",
       "164    100\n",
       "179     48\n",
       "203     48\n",
       "Name: runs, dtype: int64"
      ]
     },
     "execution_count": 53,
     "metadata": {},
     "output_type": "execute_result"
    }
   ],
   "source": [
    "vk[vk.isin([48,99,100])]"
   ]
  },
  {
   "cell_type": "code",
   "execution_count": 54,
   "id": "685abdee",
   "metadata": {},
   "outputs": [
    {
     "data": {
      "text/plain": [
       "movie\n",
       "Uri: The Surgical Strike                   Vicky Kaushal\n",
       "Battalion 609                                Vicky Ahuja\n",
       "The Accidental Prime Minister (film)         Anupam Kher\n",
       "Why Cheat India                            Emraan Hashmi\n",
       "Evening Shadows                         Mona Ambegaonkar\n",
       "                                              ...       \n",
       "Hum Tumhare Hain Sanam                    Shah Rukh Khan\n",
       "Aankhen (2002 film)                     Amitabh Bachchan\n",
       "Saathiya (film)                             Vivek Oberoi\n",
       "Company (film)                                Ajay Devgn\n",
       "Awara Paagal Deewana                        Akshay Kumar\n",
       "Name: lead, Length: 1500, dtype: object"
      ]
     },
     "execution_count": 54,
     "metadata": {},
     "output_type": "execute_result"
    }
   ],
   "source": [
    "# apply -> help to apply a custom logic on a series\n",
    "movies"
   ]
  },
  {
   "cell_type": "code",
   "execution_count": 58,
   "id": "d6531939",
   "metadata": {},
   "outputs": [
    {
     "data": {
      "text/plain": [
       "movie\n",
       "Uri: The Surgical Strike                  VICKY\n",
       "Battalion 609                             VICKY\n",
       "The Accidental Prime Minister (film)     ANUPAM\n",
       "Why Cheat India                          EMRAAN\n",
       "Evening Shadows                            MONA\n",
       "                                         ...   \n",
       "Hum Tumhare Hain Sanam                     SHAH\n",
       "Aankhen (2002 film)                     AMITABH\n",
       "Saathiya (film)                           VIVEK\n",
       "Company (film)                             AJAY\n",
       "Awara Paagal Deewana                     AKSHAY\n",
       "Name: lead, Length: 1500, dtype: object"
      ]
     },
     "execution_count": 58,
     "metadata": {},
     "output_type": "execute_result"
    }
   ],
   "source": [
    "movies.apply(lambda x:x.split()[0].upper())"
   ]
  },
  {
   "cell_type": "code",
   "execution_count": 59,
   "id": "3d67eeaa",
   "metadata": {},
   "outputs": [
    {
     "data": {
      "text/plain": [
       "0       48\n",
       "1       57\n",
       "2       40\n",
       "3       43\n",
       "4       44\n",
       "      ... \n",
       "360    231\n",
       "361    226\n",
       "362    155\n",
       "363    144\n",
       "364    172\n",
       "Name: Subscribers gained, Length: 365, dtype: int64"
      ]
     },
     "execution_count": 59,
     "metadata": {},
     "output_type": "execute_result"
    }
   ],
   "source": [
    "subs"
   ]
  },
  {
   "cell_type": "code",
   "execution_count": 60,
   "id": "03676c55",
   "metadata": {},
   "outputs": [
    {
     "data": {
      "text/plain": [
       "135.64383561643837"
      ]
     },
     "execution_count": 60,
     "metadata": {},
     "output_type": "execute_result"
    }
   ],
   "source": [
    "subs.mean()"
   ]
  },
  {
   "cell_type": "code",
   "execution_count": 61,
   "id": "f0ecd891",
   "metadata": {},
   "outputs": [
    {
     "data": {
      "text/plain": [
       "0       bad day\n",
       "1       bad day\n",
       "2       bad day\n",
       "3       bad day\n",
       "4       bad day\n",
       "         ...   \n",
       "360    good day\n",
       "361    good day\n",
       "362    good day\n",
       "363    good day\n",
       "364    good day\n",
       "Name: Subscribers gained, Length: 365, dtype: object"
      ]
     },
     "execution_count": 61,
     "metadata": {},
     "output_type": "execute_result"
    }
   ],
   "source": [
    "subs.apply(lambda x:'good day' if x > subs.mean()else 'bad day')"
   ]
  },
  {
   "cell_type": "code",
   "execution_count": 62,
   "id": "00b4f0c2",
   "metadata": {},
   "outputs": [],
   "source": [
    "# copy"
   ]
  },
  {
   "cell_type": "code",
   "execution_count": 72,
   "id": "ffbf311c",
   "metadata": {},
   "outputs": [
    {
     "data": {
      "text/plain": [
       "match_no\n",
       "1      100\n",
       "2       23\n",
       "3       13\n",
       "4       12\n",
       "5        1\n",
       "      ... \n",
       "211      0\n",
       "212     20\n",
       "213     73\n",
       "214     25\n",
       "215      7\n",
       "Name: runs, Length: 215, dtype: int64"
      ]
     },
     "execution_count": 72,
     "metadata": {},
     "output_type": "execute_result"
    }
   ],
   "source": [
    "vk"
   ]
  },
  {
   "cell_type": "code",
   "execution_count": 71,
   "id": "0806a616",
   "metadata": {},
   "outputs": [],
   "source": [
    "new = vk.head()"
   ]
  },
  {
   "cell_type": "code",
   "execution_count": 70,
   "id": "1c5fae4a",
   "metadata": {},
   "outputs": [
    {
     "data": {
      "text/plain": [
       "match_no\n",
       "1    100\n",
       "2     23\n",
       "3     13\n",
       "4     12\n",
       "5      1\n",
       "Name: runs, dtype: int64"
      ]
     },
     "execution_count": 70,
     "metadata": {},
     "output_type": "execute_result"
    }
   ],
   "source": [
    "new"
   ]
  },
  {
   "cell_type": "code",
   "execution_count": 68,
   "id": "be9f92c6",
   "metadata": {},
   "outputs": [],
   "source": [
    "new[1] = 100"
   ]
  },
  {
   "cell_type": "code",
   "execution_count": 69,
   "id": "d9a84b51",
   "metadata": {},
   "outputs": [
    {
     "data": {
      "text/plain": [
       "match_no\n",
       "1    100\n",
       "2     23\n",
       "3     13\n",
       "4     12\n",
       "5      1\n",
       "Name: runs, dtype: int64"
      ]
     },
     "execution_count": 69,
     "metadata": {},
     "output_type": "execute_result"
    }
   ],
   "source": [
    "new"
   ]
  },
  {
   "cell_type": "code",
   "execution_count": 75,
   "id": "1320c2fe",
   "metadata": {},
   "outputs": [],
   "source": [
    "new = vk.head().copy()"
   ]
  },
  {
   "cell_type": "code",
   "execution_count": 76,
   "id": "c922639e",
   "metadata": {},
   "outputs": [],
   "source": [
    "new[1] = 1"
   ]
  },
  {
   "cell_type": "code",
   "execution_count": 77,
   "id": "60569906",
   "metadata": {},
   "outputs": [
    {
     "data": {
      "text/plain": [
       "match_no\n",
       "1     1\n",
       "2    23\n",
       "3    13\n",
       "4    12\n",
       "5     1\n",
       "Name: runs, dtype: int64"
      ]
     },
     "execution_count": 77,
     "metadata": {},
     "output_type": "execute_result"
    }
   ],
   "source": [
    "new"
   ]
  },
  {
   "cell_type": "code",
   "execution_count": 78,
   "id": "d8cb1f08",
   "metadata": {},
   "outputs": [
    {
     "data": {
      "text/plain": [
       "match_no\n",
       "1      100\n",
       "2       23\n",
       "3       13\n",
       "4       12\n",
       "5        1\n",
       "      ... \n",
       "211      0\n",
       "212     20\n",
       "213     73\n",
       "214     25\n",
       "215      7\n",
       "Name: runs, Length: 215, dtype: int64"
      ]
     },
     "execution_count": 78,
     "metadata": {},
     "output_type": "execute_result"
    }
   ],
   "source": [
    "vk"
   ]
  }
 ],
 "metadata": {
  "kernelspec": {
   "display_name": "Python 3",
   "language": "python",
   "name": "python3"
  },
  "language_info": {
   "codemirror_mode": {
    "name": "ipython",
    "version": 3
   },
   "file_extension": ".py",
   "mimetype": "text/x-python",
   "name": "python",
   "nbconvert_exporter": "python",
   "pygments_lexer": "ipython3",
   "version": "3.9.9"
  }
 },
 "nbformat": 4,
 "nbformat_minor": 5
}
