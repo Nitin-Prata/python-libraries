{
 "cells": [
  {
   "cell_type": "code",
   "execution_count": 3,
   "id": "bd63c8b3",
   "metadata": {},
   "outputs": [],
   "source": [
    "import seaborn as sns"
   ]
  },
  {
   "cell_type": "code",
   "execution_count": 4,
   "id": "304790d2",
   "metadata": {},
   "outputs": [],
   "source": [
    "# import datasets\n",
    "tips = sns.load_dataset('tips')\n",
    "iris = sns.load_dataset('iris')"
   ]
  },
  {
   "cell_type": "markdown",
   "id": "be9c925d",
   "metadata": {},
   "source": [
    "## Categorical Plots\n",
    "\n",
    "### Categorical Scatter Plot\n",
    "\n",
    "- Stripplot\n",
    "- Swarmplot\n",
    "\n",
    "### Categorical Distribution Plots\n",
    "\n",
    "- Boxplot\n",
    "- Violinplot\n",
    "\n",
    "### Categorical Estimate Plot -> for central tendency\n",
    "\n",
    "- Barplot\n",
    "- Pointplot\n",
    "- Countplot\n",
    "\n",
    "### Figure level function -> `catplot`"
   ]
  }
 ],
 "metadata": {
  "kernelspec": {
   "display_name": "Python 3",
   "language": "python",
   "name": "python3"
  },
  "language_info": {
   "codemirror_mode": {
    "name": "ipython",
    "version": 3
   },
   "file_extension": ".py",
   "mimetype": "text/x-python",
   "name": "python",
   "nbconvert_exporter": "python",
   "pygments_lexer": "ipython3",
   "version": "3.9.9"
  }
 },
 "nbformat": 4,
 "nbformat_minor": 5
}
